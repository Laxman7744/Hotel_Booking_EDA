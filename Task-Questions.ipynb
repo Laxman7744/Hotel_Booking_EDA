{
 "cells": [
  {
   "cell_type": "markdown",
   "id": "5f934612-9a9b-42b5-b6a4-cc1c1588a77c",
   "metadata": {},
   "source": [
    "#### 1. Function to Return Even Numbers from a List"
   ]
  },
  {
   "cell_type": "code",
   "execution_count": 2,
   "id": "3aeeaa17-b477-40dc-b017-2cb50360e263",
   "metadata": {},
   "outputs": [
    {
     "name": "stdout",
     "output_type": "stream",
     "text": [
      "[2, 4, 6]\n"
     ]
    }
   ],
   "source": [
    "def even_numbers(numbers):\n",
    "    return [num for num in numbers if num % 2 == 0]\n",
    "\n",
    "print(even_numbers([1, 2, 3, 4, 5, 6])) "
   ]
  },
  {
   "cell_type": "markdown",
   "id": "55aca58a-4e7e-42cd-ba8d-142287277260",
   "metadata": {},
   "source": [
    "#### 2. Filtering a DataFrame Based on Conditions"
   ]
  },
  {
   "cell_type": "code",
   "execution_count": 4,
   "id": "e7254848-0e9a-4d5a-9ca3-c2c9c40959ca",
   "metadata": {},
   "outputs": [
    {
     "name": "stdout",
     "output_type": "stream",
     "text": [
      "   id  age  score\n",
      "1   2   30     85\n",
      "2   3   27     90\n"
     ]
    }
   ],
   "source": [
    "import pandas as pd\n",
    "\n",
    "data = {'id': [1, 2, 3, 4], 'age': [22, 30, 27, 24], 'score': [75, 85, 90, 78]}\n",
    "df = pd.DataFrame(data)\n",
    "\n",
    "#  age > 25 and score > 80\n",
    "filtered_df = df[(df['age'] > 25) & (df['score'] > 80)]\n",
    "print(filtered_df)\n"
   ]
  },
  {
   "cell_type": "markdown",
   "id": "43895227-c7d2-487a-8c59-44813a6d8aee",
   "metadata": {},
   "source": [
    "#### 3. How to Handle Missing Values"
   ]
  },
  {
   "cell_type": "code",
   "execution_count": 5,
   "id": "d7776353-feb7-4e01-b883-771bef38f51c",
   "metadata": {},
   "outputs": [
    {
     "data": {
      "text/html": [
       "<div>\n",
       "<style scoped>\n",
       "    .dataframe tbody tr th:only-of-type {\n",
       "        vertical-align: middle;\n",
       "    }\n",
       "\n",
       "    .dataframe tbody tr th {\n",
       "        vertical-align: top;\n",
       "    }\n",
       "\n",
       "    .dataframe thead th {\n",
       "        text-align: right;\n",
       "    }\n",
       "</style>\n",
       "<table border=\"1\" class=\"dataframe\">\n",
       "  <thead>\n",
       "    <tr style=\"text-align: right;\">\n",
       "      <th></th>\n",
       "      <th>id</th>\n",
       "      <th>age</th>\n",
       "      <th>score</th>\n",
       "    </tr>\n",
       "  </thead>\n",
       "  <tbody>\n",
       "    <tr>\n",
       "      <th>0</th>\n",
       "      <td>1</td>\n",
       "      <td>22</td>\n",
       "      <td>75</td>\n",
       "    </tr>\n",
       "    <tr>\n",
       "      <th>1</th>\n",
       "      <td>2</td>\n",
       "      <td>30</td>\n",
       "      <td>85</td>\n",
       "    </tr>\n",
       "    <tr>\n",
       "      <th>2</th>\n",
       "      <td>3</td>\n",
       "      <td>27</td>\n",
       "      <td>90</td>\n",
       "    </tr>\n",
       "    <tr>\n",
       "      <th>3</th>\n",
       "      <td>4</td>\n",
       "      <td>24</td>\n",
       "      <td>78</td>\n",
       "    </tr>\n",
       "  </tbody>\n",
       "</table>\n",
       "</div>"
      ],
      "text/plain": [
       "   id  age  score\n",
       "0   1   22     75\n",
       "1   2   30     85\n",
       "2   3   27     90\n",
       "3   4   24     78"
      ]
     },
     "execution_count": 5,
     "metadata": {},
     "output_type": "execute_result"
    }
   ],
   "source": [
    "df.dropna()  # Remove missing values\n",
    "df.fillna(0)  # Fill missing values with 0\n",
    "df.fillna(df.mean())  # Fill missing values with column average"
   ]
  },
  {
   "cell_type": "markdown",
   "id": "398fbcab-650d-4c83-b6ef-64d261414a0e",
   "metadata": {},
   "source": [
    "#### 4. How to Handle Missing Values"
   ]
  },
  {
   "cell_type": "code",
   "execution_count": 7,
   "id": "d31b5dc0-e6d0-479f-9207-ab727e1e87a4",
   "metadata": {},
   "outputs": [],
   "source": [
    "df.groupby('region')['sales'].sum()"
   ]
  },
  {
   "cell_type": "markdown",
   "id": "955d5e36-d177-4ff2-a3ac-df320e8091f8",
   "metadata": {},
   "source": [
    "#### 5. Add Cumulative Purchase Amount"
   ]
  },
  {
   "cell_type": "code",
   "execution_count": null,
   "id": "0541b748-ab9b-44cd-a647-f6d601f208f0",
   "metadata": {},
   "outputs": [],
   "source": [
    "df['cumulative_purchase'] = df.groupby('customer_id')['purchase_amount'].cumsum()"
   ]
  },
  {
   "cell_type": "markdown",
   "id": "f6d453a5-306a-44b0-8ffe-43a36c9d684e",
   "metadata": {},
   "source": [
    "#### 6. Merge Two DataFrames on customer_id\n"
   ]
  },
  {
   "cell_type": "code",
   "execution_count": 8,
   "id": "b5df49ea-b47b-458e-abd7-b9e294dd8993",
   "metadata": {},
   "outputs": [
    {
     "name": "stdout",
     "output_type": "stream",
     "text": [
      "   customer_id     name  purchase\n",
      "0            1    Alice       100\n",
      "1            2      Bob       200\n",
      "2            3  Charlie       300\n"
     ]
    }
   ],
   "source": [
    "df1 = pd.DataFrame({'customer_id': [1, 2, 3], 'name': ['Alice', 'Bob', 'Charlie']})\n",
    "df2 = pd.DataFrame({'customer_id': [1, 2, 3], 'purchase': [100, 200, 300]})\n",
    "\n",
    "merged_df = pd.merge(df1, df2, on='customer_id')\n",
    "print(merged_df)"
   ]
  },
  {
   "cell_type": "code",
   "execution_count": null,
   "id": "e18bb039-51db-442b-bf15-d0687b1a57aa",
   "metadata": {},
   "outputs": [],
   "source": []
  }
 ],
 "metadata": {
  "kernelspec": {
   "display_name": "Python 3 (ipykernel)",
   "language": "python",
   "name": "python3"
  },
  "language_info": {
   "codemirror_mode": {
    "name": "ipython",
    "version": 3
   },
   "file_extension": ".py",
   "mimetype": "text/x-python",
   "name": "python",
   "nbconvert_exporter": "python",
   "pygments_lexer": "ipython3",
   "version": "3.13.0"
  }
 },
 "nbformat": 4,
 "nbformat_minor": 5
}
